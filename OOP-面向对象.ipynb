{
 "cells": [
  {
   "cell_type": "code",
   "execution_count": 1,
   "metadata": {},
   "outputs": [
    {
     "name": "stdout",
     "output_type": "stream",
     "text": [
      "狗\n",
      "18\n",
      "{'__module__': '__main__', 'name': '狗', 'age': 18, 'a': <function A.a at 0x000001BCAA51F6A8>, '__dict__': <attribute '__dict__' of 'A' objects>, '__weakref__': <attribute '__weakref__' of 'A' objects>, '__doc__': None}\n",
      "{}\n"
     ]
    }
   ],
   "source": [
    "# ooa 面向对象分析\n",
    "# ood 面向对象的设计\n",
    "# ooi 面向对象的实现\n",
    "# oop 面向对象编程\n",
    "class A:\n",
    "    name = '狗'\n",
    "    age = 18\n",
    "    def a(self):\n",
    "        self.name = '龟龟'\n",
    "        self.age = 100\n",
    "\n",
    "print(A.name)\n",
    "print(A.age)\n",
    "a = A()\n",
    "print(A.__dict__)\n",
    "print(a.__dict__)\n"
   ]
  },
  {
   "cell_type": "code",
   "execution_count": 28,
   "metadata": {},
   "outputs": [
    {
     "name": "stdout",
     "output_type": "stream",
     "text": [
      "我叫kaka,今年9岁了\n",
      "我的动作是睡觉\n",
      "cat\n",
      "C还会喵喵喵\n"
     ]
    }
   ],
   "source": [
    "class Animel():\n",
    "    def __init__(self):\n",
    "        print(\"animel\")\n",
    "        \n",
    "class Pa(Animel):  \n",
    "    def __init__(self,tezheng):\n",
    "        self.tezheng = tezheng\n",
    "        print(\"我的动作是{0}\".format(tezheng))\n",
    "    \n",
    "    \n",
    "    \n",
    "class Dog(Pa):\n",
    "    def __init__(self,name,age):\n",
    "        self.name = name\n",
    "        self.age = age\n",
    "        print(\"我叫{0},今年{1}岁了\".format(self.name,self.age))\n",
    "#重写父类构建函数      \n",
    "class Cat(Pa):\n",
    "    def __init__(self,name,tezheng):\n",
    "        super(Cat,self).__init__(tezheng)\n",
    "        print(\"cat\")\n",
    "        self.name = name\n",
    "        print(\"{0}还会喵喵喵\".format(self.name))\n",
    "\n",
    "kk = Dog(\"kaka\",9)\n",
    "c = Cat(\"C\",\"睡觉\")\n",
    "\n",
    "\n",
    "        "
   ]
  },
  {
   "cell_type": "code",
   "execution_count": 114,
   "metadata": {},
   "outputs": [],
   "source": [
    "#调用最上面的父类\n",
    "\"\"\"class Cat(Pa):\n",
    "    def __init__(self):\n",
    "        Animel.__init__(self)\n",
    "\"\"\"\n",
    "#重写父类构建函数      \n",
    "class Cat(Pa):\n",
    "    def __init__(self,tezheng,name):\n",
    "        super(Cat,self).__init__(tezheng)\n",
    "        print(\"cat\")\n",
    "        self.name = name\n",
    "        print(\"{0}还会喵喵喵\".format(self.name))\n",
    "\n",
    "kk = Dog(\"kaka\",9)\n",
    "c = Cat(\"aaa\",\"x\")"
   ]
  },
  {
   "cell_type": "code",
   "execution_count": 22,
   "metadata": {},
   "outputs": [
    {
     "name": "stdout",
     "output_type": "stream",
     "text": [
      "Parent\n",
      "Child\n",
      "helloworld from Parent\n",
      "Child bar fuction\n",
      "I'm the parent.\n"
     ]
    }
   ],
   "source": [
    "#继承\n",
    "class FooParent(object):\n",
    "    def __init__(self):\n",
    "        self.parent = 'I\\'m the parent.'\n",
    "        print ('Parent')\n",
    "    \n",
    "    def bar(self,message):\n",
    "        print (\"%s from Parent\" % message)\n",
    "        \n",
    "class FooChild(FooParent):\n",
    "    def __init__(self):\n",
    "    # super(FooChild,self) 首先找到 FooChild 的父类（就是类 FooParent），然后把类B的对象 FooChild 转换为类 FooParent 的对象\n",
    "        super(FooChild,self).__init__()    \n",
    "        print ('Child')\n",
    "    #覆写父类方法    \n",
    "    def bar(self,message):\n",
    "        super(FooChild, self).bar(message)\n",
    "        print ('Child bar fuction')\n",
    "        print (self.parent)\n",
    "    \n",
    "a = FooChild()\n",
    "a.bar(\"helloworld\")"
   ]
  },
  {
   "cell_type": "code",
   "execution_count": 5,
   "metadata": {},
   "outputs": [
    {
     "name": "stdout",
     "output_type": "stream",
     "text": [
      "1\n",
      "3\n"
     ]
    }
   ],
   "source": [
    "class A(object):\n",
    "     bar = 1\n",
    "a = A()\n",
    "getattr(a, 'bar')        # 获取属性 bar 值\n",
    "setattr(a, 'bar2', 3)    # 设置 bar2\n",
    "print(a.bar)\n",
    "print(a.bar2)\n",
    "\n"
   ]
  },
  {
   "cell_type": "code",
   "execution_count": 26,
   "metadata": {},
   "outputs": [
    {
     "name": "stdout",
     "output_type": "stream",
     "text": [
      "我叫yuayu\n",
      "我今年18岁\n",
      "我用筷子吃饭\n"
     ]
    }
   ],
   "source": [
    "class Animal():\n",
    "    pass\n",
    "class People(Animal):\n",
    "    def __init__(self,name,age):\n",
    "        self.name = name\n",
    "        self.age = age\n",
    "        print(\"我叫%s\"%name)\n",
    "        print(\"我今年%s岁\"%age)\n",
    "    def eat(self):\n",
    "        print(\"我用筷子吃饭\")\n",
    "        \n",
    "class Pigs(Animal):\n",
    "    def __init__(self,name):\n",
    "        self.name = name\n",
    "        print(\"我叫%s\"%name)\n",
    "    def eat(self):\n",
    "        print(\"我用嘴吃饭\")\n",
    "        \n",
    "class Cat(Animal):\n",
    "    def __init__(self,name):\n",
    "        self.name = name\n",
    "        print(\"我叫%s\"%name)\n",
    "    def eat(self):\n",
    "        print(\"我用爪子吃饭\")\n",
    "        \n",
    "#若为pass 此时从左到右 继承左边第一个父类的方法 以及构造函数   \n",
    "class Catman(People,Cat):\n",
    "    pass\n",
    "\n",
    "a = Catman(\"yuayu\",18)\n",
    "a.eat()"
   ]
  },
  {
   "cell_type": "code",
   "execution_count": 4,
   "metadata": {},
   "outputs": [
    {
     "name": "stdout",
     "output_type": "stream",
     "text": [
      "设置属性age\n"
     ]
    }
   ],
   "source": [
    "#__setattr__魔法函数\n",
    "class Person():\n",
    "    def __init__(self):\n",
    "        pass\n",
    "    def __setattr__(self,name,value):\n",
    "        print(\"设置属性{0}\".format(name))\n",
    "        super().__setattr__(name,value)\n",
    "\n",
    "a = Person()\n",
    "a.age = 18"
   ]
  },
  {
   "cell_type": "code",
   "execution_count": 4,
   "metadata": {
    "collapsed": true
   },
   "outputs": [
    {
     "name": "stdout",
     "output_type": "stream",
     "text": [
      "2166563837352\n",
      "2166563838696\n",
      "哈哈， one 会比 two 大吗？\n",
      "False\n"
     ]
    }
   ],
   "source": [
    "#__gt__魔法函数\n",
    "class Student():\n",
    "    def __init__(self, name):\n",
    "        self._name = name\n",
    "    \n",
    "   \n",
    "    def __gt__(self, a):\n",
    "        print(\"哈哈， {0} 会比 {1} 大吗？\".format(self._name, a._name))\n",
    "        return self._name > a._name\n",
    "    \n",
    "# 作业：\n",
    "# 字符串的比较是按什么规则\n",
    "stu1 = Student(\"one\")\n",
    "stu2 = Student(\"two\")\n",
    "\n",
    "print(id(\"one\"))\n",
    "print(id(\"two\"))\n",
    "\n",
    "print(stu1 > stu2)\n",
    "\n",
    "\n"
   ]
  },
  {
   "cell_type": "code",
   "execution_count": 4,
   "metadata": {},
   "outputs": [
    {
     "name": "stdout",
     "output_type": "stream",
     "text": [
      "输入一个数字2\n",
      "50.0\n"
     ]
    }
   ],
   "source": [
    "num = int(input(\"输入一个数字\"))\n",
    "if num == 0:\n",
    "    print(\"0不能为除数\")\n",
    "elif num == 1:\n",
    "    print(\"干嘛要写1啊\")\n",
    "else:\n",
    "    print(100/num)"
   ]
  }
 ],
 "metadata": {
  "kernelspec": {
   "display_name": "Python 3",
   "language": "python",
   "name": "python3"
  },
  "language_info": {
   "codemirror_mode": {
    "name": "ipython",
    "version": 3
   },
   "file_extension": ".py",
   "mimetype": "text/x-python",
   "name": "python",
   "nbconvert_exporter": "python",
   "pygments_lexer": "ipython3",
   "version": "3.6.6"
  }
 },
 "nbformat": 4,
 "nbformat_minor": 2
}
